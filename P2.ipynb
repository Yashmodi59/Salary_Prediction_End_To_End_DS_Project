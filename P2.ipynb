{
 "cells": [
  {
   "cell_type": "code",
   "execution_count": 50,
   "metadata": {},
   "outputs": [
    {
     "name": "stdout",
     "output_type": "stream",
     "text": [
      "equal frequency binning\n",
      "[84, 29, 14, 79, 11]\n",
      "[22, 77, 67, 23, 36]\n",
      "[83, 17, 31, 40, 21]\n",
      "[74, 82, 33, 10, 66]\n",
      "[32, 12, 61, 13, 64]\n",
      "\n",
      "\n",
      "equal width binning\n",
      "[[29, 14, 11, 22, 23, 17, 31, 21, 33, 10, 32, 12, 13], [36, 40], [84, 79, 77, 67, 83, 74, 82, 66, 61, 64]]\n"
     ]
    }
   ],
   "source": [
    "import random\n",
    "def equifreq(array, m):\n",
    "    no = len(array)\n",
    "    n = int(no/m)\n",
    "    for i in range(0,m):\n",
    "        arr = [] \n",
    "        for j in range(i * n, (i + 1) * n): \n",
    "            if j >= no: \n",
    "                break\n",
    "            arr = arr + [array[j]] \n",
    "        print(arr) \n",
    "def equiwidth(array, m): \n",
    "    n = len(array)\n",
    "    minimum = min(array)\n",
    "    maximum = max(array)\n",
    "    width = ((maximum - minimum)/m)\n",
    "    arr = [] \n",
    "    for i in range(0, m + 1): \n",
    "        arr = arr + [minimum + width * i]\n",
    "    array1 = []\n",
    "    for i in range(0, m): \n",
    "        temp = [] \n",
    "        for j in array: \n",
    "            if j >= arr[i] and j <= arr[i+1]: \n",
    "                temp += [j] \n",
    "        array1 += [temp] \n",
    "    print(array1) \n",
    "#data to be binned \n",
    "data = random.sample(range(10,90),25) \n",
    "#no of bins \n",
    "m = 5\n",
    "  \n",
    "print(\"equal frequency binning\") \n",
    "equifreq(data, m) \n",
    "  \n",
    "print(\"\\n\\nequal width binning\") \n",
    "equiwidth(data, 3) "
   ]
  },
  {
   "cell_type": "code",
   "execution_count": 51,
   "metadata": {},
   "outputs": [
    {
     "name": "stdout",
     "output_type": "stream",
     "text": [
      "Five-number summary\n",
      "Minimum: 10\n",
      "Q1 (25%): 33.5\n",
      "Q2 (50%): 33.0\n",
      "Q3 (75%): 33.0\n",
      "Maximum: 84\n",
      "Decimal Normalization:\n",
      "[0.84, 0.29, 0.14, 0.79, 0.11, 0.22, 0.77, 0.67, 0.23, 0.36, 0.83, 0.17, 0.31, 0.4, 0.21, 0.74, 0.82, 0.33, 0.1, 0.66, 0.32, 0.12, 0.61, 0.13, 0.64]\n",
      "Min Max Normalization:\n",
      "[1.0, 0.26, 0.05, 0.93, 0.01, 0.16, 0.91, 0.77, 0.18, 0.35, 0.99, 0.09, 0.28, 0.41, 0.15, 0.86, 0.97, 0.31, 0.0, 0.76, 0.3, 0.03, 0.69, 0.04, 0.73]\n",
      "Z score Normalization:\n",
      "[1.54, -0.53, -1.11, 1.34, -1.23, -0.81, 1.29, 0.9, -0.75, -0.28, 1.51, -1.0, -0.47, -0.11, -0.84, 1.15, 1.45, -0.39, -1.25, 0.87, -0.42, -1.17, 0.67, -1.14, 0.78]\n"
     ]
    }
   ],
   "source": [
    "import numpy as np\n",
    "def decimalNorm(array):\n",
    "    n = max(array)\n",
    "    count=0\n",
    "    while(n>0):\n",
    "        count=count+1\n",
    "        n=n//10\n",
    "    div=pow(10,count)\n",
    "    print(\"Decimal Normalization:\")\n",
    "    for i in range(len(array)):\n",
    "        array[i] = array[i]/div\n",
    "    print(array)\n",
    "def minmaxNorm(array, new_max, new_min):\n",
    "    minimum = min(array)\n",
    "    maximum = max(array)\n",
    "    old_range = (maximum - minimum)\n",
    "    new_range = new_max - new_min\n",
    "    for i in range(len(array)):\n",
    "        array[i] = round(((array[i] -  minimum)/old_range)*(new_range + new_min),2)    \n",
    "    print(\"Min Max Normalization:\")\n",
    "    print(array)\n",
    "def zscoreNorm(array):\n",
    "    mean=np.mean(array)\n",
    "    std_dev=np.std(array)\n",
    "    for i in range(len(array)):\n",
    "        array[i] = round(((array[i] -  mean)/std_dev),2)    \n",
    "    print(\"Z score Normalization:\")\n",
    "    print(array)\n",
    "def five_number_summary(array):\n",
    "    median =  np.median(array)\n",
    "    minimum = min(array)\n",
    "    maximum = max(array)\n",
    "    h = 0\n",
    "    if len(array)%2==0:\n",
    "        h = len(array)//2\n",
    "    else:\n",
    "        h = (len(array)+1)//2\n",
    "    q1 = np.median(array[:h+1])\n",
    "    q3 = np.median(array[h+1:])\n",
    "    print('Five-number summary')\n",
    "    print('Minimum:',minimum)\n",
    "    print('Q1 (25%):',q1)\n",
    "    print('Q2 (50%):',median)\n",
    "    print('Q3 (75%):',q3)\n",
    "    print('Maximum:',maximum)\n",
    "\n",
    "five_number_summary(data)\n",
    "decimalNorm(data)\n",
    "minmaxNorm(data,1,0)\n",
    "zscoreNorm(data)"
   ]
  },
  {
   "cell_type": "code",
   "execution_count": null,
   "metadata": {},
   "outputs": [],
   "source": []
  }
 ],
 "metadata": {
  "kernelspec": {
   "display_name": "Python 3",
   "language": "python",
   "name": "python3"
  },
  "language_info": {
   "codemirror_mode": {
    "name": "ipython",
    "version": 3
   },
   "file_extension": ".py",
   "mimetype": "text/x-python",
   "name": "python",
   "nbconvert_exporter": "python",
   "pygments_lexer": "ipython3",
   "version": "3.7.6"
  }
 },
 "nbformat": 4,
 "nbformat_minor": 4
}
